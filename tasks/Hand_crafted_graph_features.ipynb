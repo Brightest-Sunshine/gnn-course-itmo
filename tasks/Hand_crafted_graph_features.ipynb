{
  "nbformat": 4,
  "nbformat_minor": 0,
  "metadata": {
    "colab": {
      "provenance": []
    },
    "kernelspec": {
      "name": "python3",
      "display_name": "Python 3"
    },
    "language_info": {
      "name": "python"
    }
  },
  "cells": [
    {
      "cell_type": "markdown",
      "source": [
        "# Задача 1. Hand-crafted graph features"
      ],
      "metadata": {
        "id": "CbuNcjVmCFpk"
      }
    },
    {
      "cell_type": "markdown",
      "source": [
        "## Задача\n",
        "\n",
        "- [ ] Найти или сгенерировать набор данных для бинарной классификации графов.\n",
        "- [ ] Реализовать функцию `shortest_path_kernel(train_graphs, test_graphs)`, которая принимает тренировочный и тестовые наборы, а возвращает пару `K_train, K_test`\n",
        "  - Опишите графы с помощью вектора из количества кратчайших путей различной длины\n",
        "  - Для вычисления длин кратчайших путей можно использовать `nx.shortest_path_length(G)`\n",
        "  - Ядровая функция для сравнения двух графов - скалярное произведение их двух векторов\n",
        "  - `K_train` - матрица из ядровых функций для сравнения тренировочных графов между собой\n",
        "  - `K_test` - матрица из ядровых функций для сравнения тестовых графов с тренировочными\n",
        "- [ ] Используя реализованное ядро обучите модель SVC, подберите гиперпараметры, вычислите различные метрики качества\n",
        "- [ ] (+5 баллов) Также реализовать Weisfeiler-Lehman Kernel и обучить классификатор с ним, сравнить результаты.\n",
        "\n",
        "---\n",
        "\n"
      ],
      "metadata": {
        "id": "tDe1z9owCM87"
      }
    },
    {
      "cell_type": "markdown",
      "source": [
        "Установим необходимые библиотеки для работы:"
      ],
      "metadata": {
        "id": "p4653AwXK41P"
      }
    },
    {
      "cell_type": "code",
      "source": [
        "!pip install -q datasets\n",
        "\n",
        "from datasets import load_dataset\n",
        "import networkx as nx\n",
        "import numpy as np\n",
        "import matplotlib.pyplot as plt\n",
        "\n",
        "from sklearn.metrics import accuracy_score, precision_score, recall_score, f1_score\n",
        "from sklearn.model_selection import train_test_split, GridSearchCV\n",
        "from sklearn.svm import SVC\n",
        "\n",
        "from collections import Counter, defaultdict"
      ],
      "metadata": {
        "id": "tZbR1hBuLW1h"
      },
      "execution_count": 70,
      "outputs": []
    },
    {
      "cell_type": "markdown",
      "source": [
        "В данной работе будем использовать набор данных `MUTAG` — это один из **классических** и **широко используемых** наборов данных в области графовых нейронных сетей и хемоинформатики. Он содержит информацию о 188 молекулах, представленных в виде графов, где узлы соответствуют атомам, а ребра — химическим связям между ними.\n",
        "\n",
        "Каждая молекула в наборе данных помечена меткой класса, указывающей на ее мутагенность — способность вызывать генетические мутации. Метки принимают два значения: мутагенный или немутагенный. Цель использования этого набора данных — разработка и оценка алгоритмов классификации графов, которые могут предсказывать мутагенность соединений на основе их молекулярной структуры."
      ],
      "metadata": {
        "id": "YIx9ozQKIE18"
      }
    },
    {
      "cell_type": "code",
      "source": [
        "data = load_dataset(\"graphs-datasets/MUTAG\");\n",
        "data"
      ],
      "metadata": {
        "colab": {
          "base_uri": "https://localhost:8080/"
        },
        "id": "lC-_YmySG3oA",
        "outputId": "56e0858a-2518-4dda-b872-d4cb89d4ccb0"
      },
      "execution_count": null,
      "outputs": [
        {
          "output_type": "execute_result",
          "data": {
            "text/plain": [
              "DatasetDict({\n",
              "    train: Dataset({\n",
              "        features: ['edge_index', 'node_feat', 'edge_attr', 'y', 'num_nodes'],\n",
              "        num_rows: 188\n",
              "    })\n",
              "})"
            ]
          },
          "metadata": {},
          "execution_count": 24
        }
      ]
    },
    {
      "cell_type": "markdown",
      "source": [
        "Разделим данные на тренировочную и тестовую выборки:"
      ],
      "metadata": {
        "id": "d-7v9bubNoSM"
      }
    },
    {
      "cell_type": "code",
      "source": [
        "graphs = data['train']\n",
        "\n",
        "indices = list(range(len(graphs)))\n",
        "train_indices, test_indices = train_test_split(indices, test_size=0.2, random_state=42, stratify=graphs['y'])\n",
        "\n",
        "train_dataset = graphs.select(train_indices)\n",
        "test_dataset = graphs.select(test_indices)\n",
        "\n",
        "print(f\"Размер обучающей выборки: {len(train_dataset)}\")\n",
        "print(f\"Размер тестовой выборки: {len(test_dataset)}\")"
      ],
      "metadata": {
        "colab": {
          "base_uri": "https://localhost:8080/"
        },
        "id": "5tjUIbxUNCFK",
        "outputId": "31554fb5-e043-4e96-d09b-06e0cc14d9b0"
      },
      "execution_count": 86,
      "outputs": [
        {
          "output_type": "stream",
          "name": "stdout",
          "text": [
            "Размер обучающей выборки: 150\n",
            "Размер тестовой выборки: 38\n"
          ]
        }
      ]
    },
    {
      "cell_type": "markdown",
      "source": [
        "Реализуем функцию отрисовки графа на основе алгоритма `spring`:"
      ],
      "metadata": {
        "id": "gYXPPiD5YgFS"
      }
    },
    {
      "cell_type": "code",
      "source": [
        "def visualize_graph(graph_data):\n",
        "    \"\"\"\n",
        "    Визуализирует граф на основе предоставленных данных.\n",
        "\n",
        "    Параметры:\n",
        "    -----------\n",
        "    graph_data: dict\n",
        "        Словарь с информацией о графе, содержащий рёбра ('edge_index'),\n",
        "        количество узлов ('num_nodes'), признаки узлов ('node_feat') и метку графа ('y').\n",
        "\n",
        "    Возвращает:\n",
        "    -----------\n",
        "    G: networkx.Graph\n",
        "        Объект графа, построенный с использованием библиотеки NetworkX.\n",
        "    \"\"\"\n",
        "    edge_index = graph_data['edge_index']  # Рёбра графа\n",
        "    num_nodes = graph_data['num_nodes']    # Количество узлов\n",
        "    node_labels = [str(int(label[0])) if isinstance(label, list) else str(label) for label in graph_data['node_feat']]\n",
        "\n",
        "    # Создаем пустой граф\n",
        "    G = nx.Graph()\n",
        "\n",
        "    # Добавляем узлы с метками\n",
        "    for i in range(num_nodes):\n",
        "        G.add_node(i, label=str(node_labels[i]))\n",
        "\n",
        "    # Добавляем рёбра\n",
        "    edges = list(zip(edge_index[0], edge_index[1]))\n",
        "    G.add_edges_from(edges)\n",
        "\n",
        "    plt.figure(figsize=(8, 6))\n",
        "    pos = nx.spring_layout(G, seed=42)\n",
        "    labels = nx.get_node_attributes(G, 'label')\n",
        "\n",
        "    nx.draw_networkx_nodes(G, pos, node_color='lightblue', node_size=500)\n",
        "    nx.draw_networkx_edges(G, pos, width=1.5)\n",
        "    nx.draw_networkx_labels(G, pos, labels, font_size=12)\n",
        "\n",
        "    plt.axis('off')\n",
        "    plt.title(f'Граф из тренировочного набора данных MUTAG')\n",
        "    plt.show()\n",
        "\n",
        "    return G"
      ],
      "metadata": {
        "id": "xRd7H080IetH"
      },
      "execution_count": 61,
      "outputs": []
    },
    {
      "cell_type": "markdown",
      "source": [
        "Визуализируем графы, содержащиеся в обучающем наборе:"
      ],
      "metadata": {
        "id": "OO9eLZUCY6GS"
      }
    },
    {
      "cell_type": "code",
      "source": [
        "G = visualize_graph(train_dataset[0])"
      ],
      "metadata": {
        "colab": {
          "base_uri": "https://localhost:8080/",
          "height": 521
        },
        "id": "jR9ZqOgtOl6Q",
        "outputId": "8b8a1a87-ab9d-4d2b-9ef7-53a6b8811bf7"
      },
      "execution_count": null,
      "outputs": [
        {
          "output_type": "display_data",
          "data": {
            "text/plain": [
              "<Figure size 800x600 with 1 Axes>"
            ],
            "image/png": "[encoded data removed]"
          },
          "metadata": {}
        }
      ]
    },
    {
      "cell_type": "code",
      "source": [
        "G = visualize_graph(train_dataset[42])"
      ],
      "metadata": {
        "id": "tSyeEjPXPZ8J",
        "outputId": "417ca5af-2792-443e-f8af-ea1aa6d6156b",
        "colab": {
          "base_uri": "https://localhost:8080/",
          "height": 521
        }
      },
      "execution_count": null,
      "outputs": [
        {
          "output_type": "display_data",
          "data": {
            "text/plain": [
              "<Figure size 800x600 with 1 Axes>"
            ],
            "image/png": "[encoded data removed]"
          },
          "metadata": {}
        }
      ]
    },
    {
      "cell_type": "markdown",
      "source": [
        "**Shortest Path Kernel** — ядро, основанное на количестве кратчайших путей разной длины в графах. Этот метод позволяет количественно оценить, насколько два графа схожи по своим структурным характеристикам, и использовать эту информацию для классификации графов. Для этого\n",
        "\n",
        "1. Для каждого графа G:\n",
        "   - Вычислим кратчайшие пути между всеми парами узлов.\n",
        "   - Построим вектор кратчайших путей, где каждый элемент - это количество путей определенной длины.\n",
        "   \n",
        "2. Для всех пар графов в тренировочном наборе:\n",
        "   - Вычислим скалярное произведение векторов кратчайших путей для каждой пары графов.\n",
        "   - Запишем результаты в матрицу `K_train`.\n",
        "\n",
        "3. Для всех пар графов (графы `test` и графы `train`):\n",
        "   - Вычислим скалярное произведение векторов кратчайших путей для каждой пары (`test`, `train`).\n",
        "   - Запишем результаты в матрицу `K_test`."
      ],
      "metadata": {
        "id": "MD9fbH7yR2Ry"
      }
    },
    {
      "cell_type": "code",
      "source": [
        "def graph_to_shortest_path_vector(G, max_length):\n",
        "    \"\"\"\n",
        "    Преобразует граф в вектор, где каждый элемент соответствует количеству кратчайших путей определенной длины.\n",
        "\n",
        "    Параметры:\n",
        "    ----------\n",
        "    G: networkx.Graph\n",
        "        Граф, для которого нужно вычислить вектор кратчайших путей.\n",
        "    max_length: int\n",
        "        Максимальная длина кратчайшего пути для выравнивания размеров векторов.\n",
        "\n",
        "    Возвращает:\n",
        "    -----------\n",
        "    vector: np.array\n",
        "        Вектор, в котором количество кратчайших путей каждой длины.\n",
        "    \"\"\"\n",
        "    # Вычисляем все кратчайшие пути между всеми парами узлов\n",
        "    path_lengths = dict(nx.shortest_path_length(G))\n",
        "\n",
        "    # Создаем словарь для подсчета кратчайших путей каждой длины\n",
        "    path_length_counts = {}\n",
        "\n",
        "    # Заполняем словарь длинами кратчайших путей\n",
        "    for source in path_lengths:\n",
        "        for target, length in path_lengths[source].items():\n",
        "            if source != target:  # исключаем нулевые пути (между одинаковыми узлами)\n",
        "                if length not in path_length_counts:\n",
        "                    path_length_counts[length] = 0\n",
        "                path_length_counts[length] += 1\n",
        "\n",
        "    # Преобразуем словарь в вектор фиксированной длины max_length\n",
        "    vector = np.zeros(max_length + 1)\n",
        "\n",
        "    for length, count in path_length_counts.items():\n",
        "        if length <= max_length:\n",
        "            vector[length] = count\n",
        "\n",
        "    return vector"
      ],
      "metadata": {
        "id": "_cRxf-7uPbn9"
      },
      "execution_count": 91,
      "outputs": []
    },
    {
      "cell_type": "code",
      "source": [
        "def kernel_function(vector1, vector2):\n",
        "    \"\"\"\n",
        "    Вычисляетскалярное произведение для двух векторов.\n",
        "\n",
        "    Параметры:\n",
        "    ----------\n",
        "    vector1: np.array\n",
        "        Вектор для первого графа.\n",
        "    vector2: np.array\n",
        "        Вектор для второго графа.\n",
        "\n",
        "    Возвращает:\n",
        "    -----------\n",
        "    scalar_product: float\n",
        "        Результат скалярного произведения двух векторов.\n",
        "    \"\"\"\n",
        "    return np.dot(vector1, vector2)"
      ],
      "metadata": {
        "id": "7COQ__5ZWgYw"
      },
      "execution_count": 62,
      "outputs": []
    },
    {
      "cell_type": "code",
      "source": [
        "def shortest_path_kernel(train_graphs, test_graphs):\n",
        "    \"\"\"\n",
        "    Вычисляет матрицы K_train и K_test на основе кратчайших путей для тренировочных и тестовых графов.\n",
        "\n",
        "    Параметры:\n",
        "    ----------\n",
        "    train_graphs: list of networkx.Graph\n",
        "        Список графов для тренировочного набора.\n",
        "    test_graphs: list of networkx.Graph\n",
        "        Список графов для тестового набора.\n",
        "\n",
        "    Возвращает:\n",
        "    -----------\n",
        "    K_train: np.array\n",
        "        Матрица ядер для сравнения графов тренировочного набора.\n",
        "    K_test: np.array\n",
        "        Матрица ядер для сравнения графов тестового набора с тренировочными.\n",
        "    \"\"\"\n",
        "    # Определяем максимальную длину кратчайшего пути среди всех графов\n",
        "    max_train_length = max([max([max(lengths.values()) for lengths in dict(nx.shortest_path_length(G)).values()]) for G in train_graphs])\n",
        "    max_test_length = max([max([max(lengths.values()) for lengths in dict(nx.shortest_path_length(G)).values()]) for G in test_graphs])\n",
        "\n",
        "    max_length = max(max_train_length, max_test_length)  # Общая максимальная длина\n",
        "\n",
        "    # Преобразуем графы в векторы кратчайших путей\n",
        "    train_vectors = [graph_to_shortest_path_vector(G, max_length) for G in train_graphs]\n",
        "    test_vectors = [graph_to_shortest_path_vector(G, max_length) for G in test_graphs]\n",
        "\n",
        "    # Инициализируем матрицу K_train\n",
        "    n_train = len(train_vectors)\n",
        "    K_train = np.zeros((n_train, n_train))\n",
        "\n",
        "    # Вычисляем K_train\n",
        "    for i in range(n_train):\n",
        "        for j in range(n_train):\n",
        "            K_train[i, j] = kernel_function(train_vectors[i], train_vectors[j])\n",
        "\n",
        "    # Инициализируем матрицу K_test\n",
        "    n_test = len(test_vectors)\n",
        "    K_test = np.zeros((n_test, n_train))\n",
        "\n",
        "    # Вычисляем K_test\n",
        "    for i in range(n_test):\n",
        "        for j in range(n_train):\n",
        "            K_test[i, j] = kernel_function(test_vectors[i], train_vectors[j])\n",
        "\n",
        "    return K_train, K_test"
      ],
      "metadata": {
        "id": "dUVkhnGTWknp"
      },
      "execution_count": 94,
      "outputs": []
    },
    {
      "cell_type": "code",
      "source": [
        "def train_and_evaluate_svc(train_graphs, test_graphs, train_labels, test_labels, cv=2):\n",
        "    \"\"\"\n",
        "    Функция для обучения модели SVC с использованием ядра кратчайших путей и оценки на тестовой выборке.\n",
        "    Параметры:\n",
        "    -----------\n",
        "    train_graphs : list\n",
        "        Список тренировочных графов (networkx.Graph).\n",
        "    test_graphs : list\n",
        "        Список тестовых графов (networkx.Graph).\n",
        "    train_labels : list\n",
        "        Метки классов для тренировочной выборки.\n",
        "    test_labels : list\n",
        "        Метки классов для тестовой выборки.\n",
        "    cv : int\n",
        "        Количество фолдов для кросс-валидации.\n",
        "\n",
        "    Возвращает:\n",
        "    -----------\n",
        "    clf : объект SVC\n",
        "        Обученная модель.\n",
        "    \"\"\"\n",
        "    K_train, K_test = shortest_path_kernel(train_graphs, test_graphs)\n",
        "    train_labels = np.ravel(train_labels)\n",
        "    test_labels = np.ravel(test_labels)\n",
        "\n",
        "    param_grid = {\n",
        "    'C': [0.01, 0.05, 0.1, 1, 10, 100, 1000, 1, 5, 10],\n",
        "    'cache_size': [10, 50, 100, 200, 300, 400],\n",
        "    'tol': [0.1, 0.05, 0.01, 0.001, 0.0001]\n",
        "    }\n",
        "\n",
        "    svc = SVC(kernel=\"precomputed\")\n",
        "    clf = GridSearchCV(svc, param_grid, cv=cv)\n",
        "    clf.fit(K_train, train_labels)\n",
        "\n",
        "    print(\"Лучшие параметры:\", clf.best_params_)\n",
        "\n",
        "    y_pred = clf.predict(K_test)\n",
        "\n",
        "    accuracy = accuracy_score(test_labels, y_pred)\n",
        "    precision = precision_score(test_labels, y_pred)\n",
        "    recall = recall_score(test_labels, y_pred)\n",
        "    f1 = f1_score(test_labels, y_pred)\n",
        "\n",
        "    print(f\"Точность: {accuracy:.4f}\")\n",
        "    print(f\"Полнота: {recall:.4f}\")\n",
        "    print(f\"F1-мера: {f1:.4f}\")\n",
        "    print(f\"Точность (precision): {precision:.4f}\")\n",
        "\n",
        "    return clf"
      ],
      "metadata": {
        "id": "zDAXlmcEXM1S"
      },
      "execution_count": 92,
      "outputs": []
    },
    {
      "cell_type": "code",
      "source": [
        "train_graphs = []\n",
        "for i in range(len(train_dataset)):\n",
        "    G = nx.Graph()\n",
        "    num_nodes = train_dataset[i]['num_nodes']\n",
        "    edge_index = train_dataset[i]['edge_index']\n",
        "\n",
        "    for node_id in range(num_nodes):\n",
        "        G.add_node(node_id)\n",
        "    edges = list(zip(edge_index[0], edge_index[1]))\n",
        "    G.add_edges_from(edges)\n",
        "    train_graphs.append(G)\n",
        "\n",
        "test_graphs = []\n",
        "for i in range(len(test_dataset)):\n",
        "    G = nx.Graph()\n",
        "    num_nodes = test_dataset[i]['num_nodes']\n",
        "    edge_index = test_dataset[i]['edge_index']\n",
        "\n",
        "    for node_id in range(num_nodes):\n",
        "        G.add_node(node_id)\n",
        "\n",
        "    edges = list(zip(edge_index[0], edge_index[1]))\n",
        "    G.add_edges_from(edges)\n",
        "    test_graphs.append(G)\n",
        "\n",
        "train_labels = train_dataset['y']\n",
        "test_labels = test_dataset['y']\n",
        "\n",
        "clf = train_and_evaluate_svc(train_graphs, test_graphs, train_labels, test_labels, cv=5)"
      ],
      "metadata": {
        "colab": {
          "base_uri": "https://localhost:8080/"
        },
        "id": "mrEemnseXO3b",
        "outputId": "bf492e86-3cc9-4257-edb1-82b073fa162e"
      },
      "execution_count": 95,
      "outputs": [
        {
          "output_type": "stream",
          "name": "stdout",
          "text": [
            "Лучший параметр C: {'C': 1, 'cache_size': 10, 'tol': 0.1}\n",
            "Точность: 0.8684\n",
            "Полнота: 0.8400\n",
            "F1-мера: 0.8936\n",
            "Точность (precision): 0.9545\n"
          ]
        }
      ]
    },
    {
      "cell_type": "markdown",
      "source": [
        "Попробуем улучшить полученный результат. Многие статьи показывают, что `Weisfeiler-Lehman Kernel` метод превосходит классические ядровые функции, такие как `shortest_path_kernel`."
      ],
      "metadata": {
        "id": "Co0k11z1bOQr"
      }
    },
    {
      "cell_type": "code",
      "source": [
        "def weisfeiler_lehman_kernel(train_graphs, test_graphs, h=2):\n",
        "    \"\"\"\n",
        "    Реализует Weisfeiler-Lehman Kernel для сравнения графов.\n",
        "\n",
        "    Параметры:\n",
        "    -----------\n",
        "    train_graphs: list\n",
        "        Список тренировочных графов.\n",
        "    test_graphs: list\n",
        "        Список тестовых графов.\n",
        "    h: int, по умолчанию 2\n",
        "        Количество итераций пересчета меток узлов.\n",
        "\n",
        "    Возвращает:\n",
        "    -----------\n",
        "    K_train: np.ndarray\n",
        "        Матрица ядров для тренировочных графов.\n",
        "    K_test: np.ndarray\n",
        "        Матрица ядров для сравнения тестовых графов с тренировочными.\n",
        "    \"\"\"\n",
        "\n",
        "    # Инициализируем начальные метки узлов как строки их идентификаторов\n",
        "    def generate_node_labels(graph):\n",
        "        labels = {}\n",
        "        for node in graph.nodes():\n",
        "            labels[node] = str(node)  # Инициализация меток узлов\n",
        "        return labels\n",
        "\n",
        "    # Пересчитываем метки узлов на основе меток соседей и собственной метки\n",
        "    def relabel_graph(graph, labels):\n",
        "        new_labels = defaultdict(list)\n",
        "        for node in graph.nodes():\n",
        "            neighborhood = [labels[neighbor] for neighbor in graph.neighbors(node)]\n",
        "            neighborhood.append(labels[node])  # Добавляем собственную метку узла\n",
        "            new_labels[node] = ''.join(sorted(neighborhood))  # Сортируем\n",
        "        return new_labels\n",
        "\n",
        "    # Выполняем h итераций пересчета меток для графа и возвращаем их для каждой итерации\n",
        "    def compute_wl_features(graph, h):\n",
        "        labels = generate_node_labels(graph)  # Начальные метки\n",
        "        wl_features = [list(labels.values())]  # Сохраняем метки на 0-ой итерации\n",
        "        for i in range(h):\n",
        "            labels = relabel_graph(graph, labels)  # Пересчитываем метки\n",
        "            wl_features.append(list(labels.values()))  # Добавляем метки для каждой итерации\n",
        "        return wl_features\n",
        "\n",
        "    # Строим вектор признаков на основе частоты встречаемости меток на каждой итерации WL\n",
        "    def feature_vector(wl_features, all_labels):\n",
        "        counter = defaultdict(int)\n",
        "        for iteration_labels in wl_features:\n",
        "            for label in iteration_labels:\n",
        "                counter[label] += 1\n",
        "        # Строим вектор признаков на основе всех уникальных меток\n",
        "        return np.array([counter[label] for label in all_labels])\n",
        "\n",
        "    # Собираем все уникальные метки, встречающиеся в графах\n",
        "    def collect_all_labels(graphs, h):\n",
        "        all_labels = set()\n",
        "        for g in graphs:\n",
        "            wl_features = compute_wl_features(g, h)\n",
        "            for iteration_labels in wl_features:\n",
        "                all_labels.update(iteration_labels)\n",
        "        return sorted(all_labels)\n",
        "\n",
        "    # Вычисляем ядровую матрицу между двумя наборами графов, используя WL Kernel\n",
        "    def compute_kernel_matrix(graphs1, graphs2, h, all_labels):\n",
        "        n1 = len(graphs1)\n",
        "        n2 = len(graphs2)\n",
        "        K = np.zeros((n1, n2))\n",
        "\n",
        "        # Сравниваем каждый граф с каждым\n",
        "        for i, g1 in enumerate(graphs1):\n",
        "            g1_features = feature_vector(compute_wl_features(g1, h), all_labels)\n",
        "            for j, g2 in enumerate(graphs2):\n",
        "                g2_features = feature_vector(compute_wl_features(g2, h), all_labels)\n",
        "                K[i, j] = np.dot(g1_features, g2_features)\n",
        "\n",
        "        return K\n",
        "\n",
        "    # Собираем все уникальные метки для тренировочных и тестовых графов\n",
        "    all_labels = collect_all_labels(train_graphs + test_graphs, h)\n",
        "\n",
        "    # Вычисляем ядровую матрицу для тренировочных и тестовых графов\n",
        "    K_train = compute_kernel_matrix(train_graphs, train_graphs, h, all_labels)\n",
        "    K_test = compute_kernel_matrix(test_graphs, train_graphs, h, all_labels)\n",
        "    return K_train, K_test"
      ],
      "metadata": {
        "id": "Xeme6zQDX8eH"
      },
      "execution_count": 100,
      "outputs": []
    },
    {
      "cell_type": "code",
      "source": [
        "def train_and_evaluate_svc_wl(train_graphs, test_graphs, train_labels, test_labels, h=2, cv=2):\n",
        "    \"\"\"\n",
        "    Функция для обучения модели SVC с использованием Weisfeiler-Lehman Kernel и оценки на тестовой выборке.\n",
        "\n",
        "    Параметры:\n",
        "    -----------\n",
        "    train_graphs : list\n",
        "        Список тренировочных графов (networkx.Graph).\n",
        "    test_graphs : list\n",
        "        Список тестовых графов (networkx.Graph).\n",
        "    train_labels : list\n",
        "        Метки классов для тренировочной выборки.\n",
        "    test_labels : list\n",
        "        Метки классов для тестовой выборки.\n",
        "    h : int\n",
        "        Количество итераций пересчета меток узлов в WL-кернеле.\n",
        "    cv : int\n",
        "        Количество фолдов для кросс-валидации (по умолчанию 2).\n",
        "\n",
        "    Возвращает:\n",
        "    -----------\n",
        "    clf : объект SVC\n",
        "        Обученная модель.\n",
        "    \"\"\"\n",
        "    K_train, K_test = weisfeiler_lehman_kernel(train_graphs, test_graphs, h)\n",
        "    train_labels = np.ravel(train_labels)\n",
        "    test_labels = np.ravel(test_labels)\n",
        "\n",
        "    param_grid = {\n",
        "        'C': [0.01, 0.05, 0.1, 1, 10, 100, 1000],\n",
        "        'cache_size': [10, 50, 100, 200, 300, 400],\n",
        "        'tol': [0.1, 0.05, 0.01, 0.001, 0.0001]\n",
        "    }\n",
        "    svc = SVC(kernel=\"precomputed\")\n",
        "    clf = GridSearchCV(svc, param_grid, cv=cv)\n",
        "    clf.fit(K_train, train_labels)\n",
        "    print(\"Лучшие параметры:\", clf.best_params_)\n",
        "\n",
        "    y_pred = clf.predict(K_test)\n",
        "    accuracy = accuracy_score(test_labels, y_pred)\n",
        "    precision = precision_score(test_labels, y_pred)\n",
        "    recall = recall_score(test_labels, y_pred)\n",
        "    f1 = f1_score(test_labels, y_pred)\n",
        "\n",
        "    print(f\"Точность: {accuracy:.4f}\")\n",
        "    print(f\"Полнота: {recall:.4f}\")\n",
        "    print(f\"F1-мера: {f1:.4f}\")\n",
        "    print(f\"Точность (precision): {precision:.4f}\")\n",
        "\n",
        "    return clf\n",
        "\n",
        "clf = train_and_evaluate_svc_wl(train_graphs, test_graphs, train_labels, test_labels, h=2, cv=5)"
      ],
      "metadata": {
        "colab": {
          "base_uri": "https://localhost:8080/"
        },
        "id": "0YDi6b02z-fn",
        "outputId": "4e249018-d1e4-424f-d928-ecee6a99c457"
      },
      "execution_count": 103,
      "outputs": [
        {
          "output_type": "stream",
          "name": "stdout",
          "text": [
            "Лучшие параметры: {'C': 0.05, 'cache_size': 10, 'tol': 0.1}\n",
            "Точность: 0.8684\n",
            "Полнота: 0.8800\n",
            "F1-мера: 0.8980\n",
            "Точность (precision): 0.9167\n"
          ]
        }
      ]
    },
    {
      "cell_type": "markdown",
      "source": [
        "**Вывод:**\n",
        "оба метода показали хорошие результаты, но выбор метода может зависеть от конкретных задач. Если важно избежать ложных срабатываний (например, минимизировать ложноположительные результаты), лучше использовать `Shortest Path Kernel`. Если же важнее находить все положительные примеры, даже с возможными ложными срабатываниями, стоит предпочесть `Weisfeiler-Lehman Kernel`."
      ],
      "metadata": {
        "id": "oFknvskt26aA"
      }
    }
  ]
}